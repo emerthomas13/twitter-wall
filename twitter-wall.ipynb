{
 "cells": [
  {
   "cell_type": "code",
   "execution_count": null,
   "metadata": {},
   "outputs": [],
   "source": [
    "!pip3 install pandas\n",
    "!pip3 install twint\n",
    "!pip3 install nest_asyncio"
   ]
  },
  {
   "cell_type": "code",
   "execution_count": null,
   "metadata": {},
   "outputs": [],
   "source": [
    "import twint\n",
    "import nest_asyncio\n",
    "\n",
    "nest_asyncio.apply()"
   ]
  },
  {
   "cell_type": "code",
   "execution_count": 2,
   "metadata": {},
   "outputs": [],
   "source": [
    "import pandas as pd"
   ]
  },
  {
   "cell_type": "code",
   "execution_count": 7,
   "metadata": {},
   "outputs": [],
   "source": [
    "c = twint.Config()\n",
    "c.Search = '#buildthewall'\n",
    "c.Limit = 10\n",
    "c.Pandas = True"
   ]
  },
  {
   "cell_type": "code",
   "execution_count": 8,
   "metadata": {},
   "outputs": [
    {
     "name": "stdout",
     "output_type": "stream",
     "text": [
      "1259272378774847491 2020-05-09 20:01:45 EDT <borderObserver> Arizona Ranchers Discuss The Impact Of Trump's Border Wall MSNBC - Nov 26, 20  The blaring ignorance or laziness in reporting by MSNBC cannot be understated.  3:46   VIDEO  https://youtu.be/aATYhexXOH0  #BuildTheWall #FinishTheWall #QuikTake qt-wall-vid-161 by #borderObserver pic.twitter.com/SQwCFEOXb0\n",
      "1259270913314500609 2020-05-09 19:55:56 EDT <Sabra16810550> But yet the media and Democrats. Just like a kid when they're caught in a lie they get loud & mad! They need time out!VOTE RED! #trump2020 #MAGA #bestpresidentever #draintheswamp #buildthewall\n",
      "1259270003880329222 2020-05-09 19:52:19 EDT <MurrauRob> Trump2020 #4MoreYears #KAG #BuildTheWall\n",
      "1259269674275147776 2020-05-09 19:51:01 EDT <MaryPatriotNews> Do and Hear Exodus Chapter 24  #LoveIsrael #letter4u #investing #guns #business #TrumpPence2020 #economy #USA #Breaking #Trump #BuildTheWall #TrumpPence #FISAGate #Bibi #Gaza #Israel #Israeli #IStandWithIsrael #Jerusalem #MaryPatriotNews #Netanyahu...  http://ow.ly/rhBA102eUep  pic.twitter.com/ItcqtuuEQm\n",
      "1259269619740704768 2020-05-09 19:50:48 EDT <MaryPatriotNews> The Origins of the Western Mind: The Synthesis of Judaism, Christianity and Classical Learning  #AmericanFreedomAlliance #economy #YouTube #business #VoteRed #BuildTheWall #USA #SpyGate #ABC #MaryPatriotNews [Video]  http://ow.ly/qUq4102eUen  pic.twitter.com/qqM1KiKltN\n",
      "1259269534881648640 2020-05-09 19:50:27 EDT <RWRDad> #BuildTheWall\n",
      "1259262170937929733 2020-05-09 19:21:12 EDT <Lanzilla2> Put them on the border! #BuildTheWall\n",
      "1259261902250741761 2020-05-09 19:20:08 EDT <Lanzilla2> #BuildTheWall\n",
      "1259261677209628674 2020-05-09 19:19:14 EDT <Lanzilla2> #BuildTheWall\n",
      "1259260089258606596 2020-05-09 19:12:55 EDT <pbgg13> That’s what I meant. If the illegals were stopped from coming in the first place instead of being aided and abetted by dems we wouldn’t have the other problem. #BuildTheWall\n",
      "1259259919364001792 2020-05-09 19:12:15 EDT <Manchu__> Time for California to do what East Germany did #BuildTheWall so folks can’t escape the socialist paradise for capitalist hellholes\n",
      "1259259097553072128 2020-05-09 19:08:59 EDT <Manchu__> Time for them #buildTheWall! After all, the purpose of the Berlin Wall was to keep folks trapped in a socialist state- to prevent them from escaping *to* capitalism.  https://twitter.com/RBReich/status/1259252447979032576 …\n",
      "1259258832569671682 2020-05-09 19:07:56 EDT <B4UR12> The USA🇺🇸 will need to #BuildTheWall @ The northern border 2!🤔  https://twitter.com/CalebJHull/status/1259170975473643531 …\n",
      "1259257243800793088 2020-05-09 19:01:37 EDT <reach147> #BorderInvasion #BuildTheWall #NoAmnesty #DeportIllegals #22MillionIllegals #NewAmericans https://twitter.com/Brn2Wander1/status/1259230254910054400 …\n",
      "1259253159077306375 2020-05-09 18:45:23 EDT <laura_tieffel> #WWG1WGAWORLDWIDE #Trump2Q2Q #BuildTheWall #SaveTheChildren #PedoGateIsReal pic.twitter.com/sa13rbVzmS\n",
      "1259252161113763840 2020-05-09 18:41:25 EDT <VopReal> #STOPCHILDTRAFFICKING  Email Volunteer.vop2.0@gmail.com and Mobilize to Pima County Arizona to help us eliminate the Cartel's capabilities of Trafficking Children.  #VOP #OpSIA #WWG1WGA #ArizonaBorder #BorderWarsAz #KAG #BuildTheWall  pic.twitter.com/rex9BB3eOu\n",
      "1259251397750657025 2020-05-09 18:38:23 EDT <notorious_dad60> Spin however you like, Democrats cried when President Trump banned travel from China. #BuildTheWall\n",
      "1259250397149048833 2020-05-09 18:34:25 EDT <secfotr> The wall will be CHEAPER..... #BuildTheWall\n",
      "1259248477537808388 2020-05-09 18:26:47 EDT <dm05346> Ted's cool...he's not a corporate shill for a failing network television channel..#saveamerica #buildthewall #texasbordercrisis #stoptheUN https://twitter.com/tedcruz/status/1258894748447891458 …\n",
      "1259244891344965634 2020-05-09 18:12:32 EDT <2Trunk2> I’m hearing from lots of smart people that they are planning on busing in illegal aliens to vote!  #BuildTheWall #MAGA2020\n"
     ]
    }
   ],
   "source": [
    "twint.run.Search(c)"
   ]
  },
  {
   "cell_type": "code",
   "execution_count": null,
   "metadata": {},
   "outputs": [],
   "source": [
    "df = twint.storage.panda.Tweets_df"
   ]
  },
  {
   "cell_type": "code",
   "execution_count": 5,
   "metadata": {},
   "outputs": [
    {
     "ename": "AttributeError",
     "evalue": "'NoneType' object has no attribute 'sample'",
     "output_type": "error",
     "traceback": [
      "\u001b[0;31m---------------------------------------------------------------------------\u001b[0m",
      "\u001b[0;31mAttributeError\u001b[0m                            Traceback (most recent call last)",
      "\u001b[0;32m<ipython-input-5-b2aa74db348b>\u001b[0m in \u001b[0;36m<module>\u001b[0;34m\u001b[0m\n\u001b[0;32m----> 1\u001b[0;31m \u001b[0mdf\u001b[0m\u001b[0;34m.\u001b[0m\u001b[0msample\u001b[0m\u001b[0;34m(\u001b[0m\u001b[0;36m5\u001b[0m\u001b[0;34m)\u001b[0m\u001b[0;34m\u001b[0m\u001b[0;34m\u001b[0m\u001b[0m\n\u001b[0m",
      "\u001b[0;31mAttributeError\u001b[0m: 'NoneType' object has no attribute 'sample'"
     ]
    }
   ],
   "source": [
    "df.sample(5)"
   ]
  },
  {
   "cell_type": "code",
   "execution_count": 6,
   "metadata": {},
   "outputs": [
    {
     "name": "stdout",
     "output_type": "stream",
     "text": [
      "None\n"
     ]
    }
   ],
   "source": [
    "print(df)"
   ]
  },
  {
   "cell_type": "code",
   "execution_count": null,
   "metadata": {},
   "outputs": [],
   "source": []
  }
 ],
 "metadata": {
  "kernelspec": {
   "display_name": "Python 3",
   "language": "python",
   "name": "python3"
  },
  "language_info": {
   "codemirror_mode": {
    "name": "ipython",
    "version": 3
   },
   "file_extension": ".py",
   "mimetype": "text/x-python",
   "name": "python",
   "nbconvert_exporter": "python",
   "pygments_lexer": "ipython3",
   "version": "3.7.3"
  }
 },
 "nbformat": 4,
 "nbformat_minor": 4
}
